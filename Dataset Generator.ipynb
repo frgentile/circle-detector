{
 "cells": [
  {
   "cell_type": "code",
   "execution_count": 1,
   "id": "0cac3b2f-16b3-4040-bd83-f64fa0410ce5",
   "metadata": {
    "tags": []
   },
   "outputs": [],
   "source": [
    "import math\n",
    "import numpy as np\n",
    "import csv\n",
    "import skimage\n",
    "import matplotlib.pyplot as plt\n",
    "from tqdm import tqdm\n",
    "import os\n",
    "import pathlib"
   ]
  },
  {
   "cell_type": "code",
   "execution_count": 2,
   "id": "73663533-5939-4688-8b34-071f156e7d21",
   "metadata": {
    "tags": []
   },
   "outputs": [],
   "source": [
    "def draw_circle(img, row: int, col: int, rad: int):\n",
    "    \"\"\"\n",
    "    Draw a circle directly into the Numpy Array\n",
    "    \"\"\"\n",
    "    rr, cc, val = skimage.draw.circle_perimeter_aa(row, col, rad, shape=img.shape)\n",
    "    valid = (\n",
    "            (rr >= 0) &\n",
    "            (rr < img.shape[0]) &\n",
    "            (cc >= 0) &\n",
    "            (cc < img.shape[1])\n",
    "    )\n",
    "    # skimage.draw.set_color(processed_img, (rr[valid], cc[valid]), [255, 255, 255], alpha=val[valid])\n",
    "    if len(img.shape) == 2:\n",
    "        # Black and White Image\n",
    "        val = np.multiply(val, 255)\n",
    "        img[rr[valid], cc[valid]] = val[valid]\n",
    "    elif len(img.shape) == 3:\n",
    "        # RGB Image\n",
    "        skimage.draw.set_color(img, (rr[valid], cc[valid]), [255, 255, 255], alpha=val[valid])"
   ]
  },
  {
   "cell_type": "code",
   "execution_count": 3,
   "id": "8c6e287b-885c-4555-9174-f1b60df52151",
   "metadata": {
    "tags": []
   },
   "outputs": [],
   "source": [
    "def generate_circle(height: int, width: int, min_radius: int, max_radius: int, totally_inside=False):\n",
    "    \"\"\"\n",
    "\n",
    "    :param height:\n",
    "    :param width:\n",
    "    :param min_radius:\n",
    "    :param max_radius:\n",
    "    :param totally_inside:\n",
    "    :return:\n",
    "    \"\"\"\n",
    "    # Initialize parameters\n",
    "    center_x, center_y, rad = math.inf, math.inf, math.inf\n",
    "    #\n",
    "    if totally_inside:\n",
    "        while center_x - rad < 0 or center_x + rad > width or center_y - rad < 0 or center_y + rad > height:\n",
    "            # Get radius\n",
    "            rad = np.random.randint(min_radius, max_radius)\n",
    "            # Get center\n",
    "            center_x = np.random.randint(width)\n",
    "            center_y = np.random.randint(height)\n",
    "            # Validate and fix if possible\n",
    "            if center_x - rad < 0 or center_x + rad > width:\n",
    "                center_x = rad + np.random.randint(width - rad)\n",
    "            if center_y - rad < 0 or center_y + rad > height:\n",
    "                center_y = rad + np.random.randint(height - rad)\n",
    "            # NOTE: If the Fix has not worked, then a new radius is obtained and repeat the process\n",
    "    else:\n",
    "        center_y = np.random.randint(height)\n",
    "        center_x = np.random.randint(width)\n",
    "        rad = np.random.randint(min_radius, max_radius)\n",
    "    #\n",
    "    return center_x, center_y, rad"
   ]
  },
  {
   "cell_type": "code",
   "execution_count": 4,
   "id": "ef6c6292-b73d-4ed1-a464-8869421557cd",
   "metadata": {
    "tags": []
   },
   "outputs": [],
   "source": [
    "def noisy_circle(height: int, width: int, channels: int, min_radius: int, max_radius: int, noise: float,\n",
    "                 contained=False):\n",
    "    \"\"\"\n",
    "    Create and image and Ground of Truth for training\n",
    "\n",
    "    :param height:\n",
    "    :param width:\n",
    "    :param channels:\n",
    "    :param min_radius:\n",
    "    :param max_radius:\n",
    "    :param noise:\n",
    "    :param contained:\n",
    "    :return:\n",
    "    \"\"\"\n",
    "    # Create an empty (black) square canvas\n",
    "    img = None\n",
    "    if channels == 1:\n",
    "        img = np.zeros((height, width), dtype=np.uint8)\n",
    "    elif channels == 3:\n",
    "        img = np.zeros((height, width, channels), dtype=np.uint8)\n",
    "    # Generate circle parameters\n",
    "    center_x, center_y, rad = generate_circle(height, width, min_radius, max_radius, totally_inside=contained)\n",
    "    # Draw circle\n",
    "    draw_circle(img, center_y, center_x, rad)\n",
    "\n",
    "    # Add uniform noise\n",
    "    uniform_noise = np.asarray(255*noise*np.random.rand(*img.shape), dtype=np.uint8)\n",
    "    img += uniform_noise\n",
    "    \n",
    "    # Return data\n",
    "    return (center_x/width, center_y/height, rad/max(width, height)), img\n",
    "    # return (center_x, center_y, rad), img"
   ]
  },
  {
   "cell_type": "markdown",
   "id": "e97eebd2-0e0e-4e9f-b0c3-344a2360e149",
   "metadata": {},
   "source": [
    "# Main"
   ]
  },
  {
   "cell_type": "code",
   "execution_count": 5,
   "id": "0a9b53ed-56aa-4217-af53-35425a0b767d",
   "metadata": {
    "tags": []
   },
   "outputs": [
    {
     "name": "stderr",
     "output_type": "stream",
     "text": [
      "Generating Dataset: 100%|██████████████████| 5000/5000 [00:08<00:00, 612.67it/s]\n"
     ]
    }
   ],
   "source": [
    "# Total number of images to be generated\n",
    "total_images = 5000\n",
    "# Size of the image\n",
    "img_height_px = 200\n",
    "img_width_px = 200\n",
    "# Channels\n",
    "channels_dict = {\"BW\": 1, \"RGB\": 3}\n",
    "img_channels = channels_dict[\"RGB\"]\n",
    "# Radius range\n",
    "min_radius = 20\n",
    "max_radius = 80\n",
    "if min_radius >= max_radius:\n",
    "    raise ValueError(\"Minimum Radius must be lower than Maximum Radius\")\n",
    "# Noise\n",
    "noise = 0.0\n",
    "# Generated circle totally contained flag\n",
    "contained = True\n",
    "# Destination Path\n",
    "dest_dir = pathlib.Path('./dataset')\n",
    "if not dest_dir.exists():\n",
    "    try:\n",
    "        os.makedirs(dest_dir)\n",
    "        print(\"Created directory {}\".format(dest_dir))\n",
    "    except Exception as exc:\n",
    "        print(f\"Exception {exc} creating dir: {dest_dir}\")\n",
    "        exit(-1)\n",
    "\n",
    "for img_number in tqdm(range(total_images), desc=\"Generating Dataset\", ncols=80):\n",
    "    # Generate file name\n",
    "    filename = 'img{:06d}'.format(img_number)\n",
    "    # Generate circle\n",
    "    params, img = noisy_circle(img_height_px, img_width_px, img_channels,\n",
    "                               min_radius, max_radius, noise, contained)\n",
    "    # Save\n",
    "    plt.imsave(dest_dir / '{}.jpg'.format(filename), img)\n",
    "    with open(dest_dir / '{}.txt'.format(filename), 'w') as csvfile:\n",
    "        spamwriter = csv.writer(csvfile, dialect='excel', delimiter=',', quotechar='\"', quoting=csv.QUOTE_MINIMAL)\n",
    "        spamwriter.writerow(['{:0.8f}'.format(params[0]), '{:0.8f}'.format(params[1]), '{:0.8f}'.format(params[2])])\n"
   ]
  },
  {
   "cell_type": "code",
   "execution_count": null,
   "id": "546bbf2c-f6cd-43db-9190-53e96e85526a",
   "metadata": {},
   "outputs": [],
   "source": []
  }
 ],
 "metadata": {
  "kernelspec": {
   "display_name": "Python 3 (ipykernel)",
   "language": "python",
   "name": "python3"
  },
  "language_info": {
   "codemirror_mode": {
    "name": "ipython",
    "version": 3
   },
   "file_extension": ".py",
   "mimetype": "text/x-python",
   "name": "python",
   "nbconvert_exporter": "python",
   "pygments_lexer": "ipython3",
   "version": "3.10.9"
  }
 },
 "nbformat": 4,
 "nbformat_minor": 5
}

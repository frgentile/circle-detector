{
 "cells": [
  {
   "cell_type": "markdown",
   "id": "16c2631d-16a2-421f-965c-f91e80a51056",
   "metadata": {},
   "source": [
    "# 1. Setup environment"
   ]
  },
  {
   "cell_type": "markdown",
   "id": "b7d6c655-dbed-4ddf-9dcc-47dcfd4e6144",
   "metadata": {},
   "source": [
    "## 1.1 Install dependencies"
   ]
  },
  {
   "cell_type": "code",
   "execution_count": null,
   "id": "53611de3-3efc-4bff-a0da-0df56137a73f",
   "metadata": {},
   "outputs": [],
   "source": [
    "!pip install tensorflow==2.4.1 tensorflow-gpu==2.4.1 opencv-python matplolib"
   ]
  },
  {
   "cell_type": "markdown",
   "id": "97fd1f4c-f100-4d93-b605-9e9d7542bc48",
   "metadata": {},
   "source": [
    "## 1.2 Import dependencies"
   ]
  },
  {
   "cell_type": "code",
   "execution_count": 1,
   "id": "af894a7c-1951-49c3-9112-efa9c448983b",
   "metadata": {
    "tags": []
   },
   "outputs": [],
   "source": [
    "import numpy as np\n",
    "import os\n",
    "import pathlib\n",
    "\n",
    "import matplotlib.pyplot as plt\n",
    "from matplotlib import patches\n",
    "# from matplotlib.collections import PatchCollection\n",
    "# from matplotlib import cm\n",
    "# from matplotlib import animation\n",
    "\n",
    "# Import uuid library to generate unique image names\n",
    "# import uuid"
   ]
  },
  {
   "cell_type": "code",
   "execution_count": 2,
   "id": "91b9ac19-6aff-46f9-b6f1-0cb54468cbba",
   "metadata": {
    "tags": []
   },
   "outputs": [
    {
     "name": "stderr",
     "output_type": "stream",
     "text": [
      "2023-06-25 20:35:33.827439: I tensorflow/core/platform/cpu_feature_guard.cc:193] This TensorFlow binary is optimized with oneAPI Deep Neural Network Library (oneDNN) to use the following CPU instructions in performance-critical operations:  AVX2 AVX512F AVX512_VNNI FMA\n",
      "To enable them in other operations, rebuild TensorFlow with the appropriate compiler flags.\n",
      "2023-06-25 20:35:33.929674: I tensorflow/core/util/port.cc:104] oneDNN custom operations are on. You may see slightly different numerical results due to floating-point round-off errors from different computation orders. To turn them off, set the environment variable `TF_ENABLE_ONEDNN_OPTS=0`.\n",
      "2023-06-25 20:35:34.406237: W tensorflow/compiler/xla/stream_executor/platform/default/dso_loader.cc:64] Could not load dynamic library 'libnvinfer.so.7'; dlerror: libnvinfer.so.7: cannot open shared object file: No such file or directory; LD_LIBRARY_PATH: /usr/local/cuda/extras/CUPIT/lib64:/usr/local/cuda/lib64:/home/paco/miniconda3/envs/tf/lib/\n",
      "2023-06-25 20:35:34.406291: W tensorflow/compiler/xla/stream_executor/platform/default/dso_loader.cc:64] Could not load dynamic library 'libnvinfer_plugin.so.7'; dlerror: libnvinfer_plugin.so.7: cannot open shared object file: No such file or directory; LD_LIBRARY_PATH: /usr/local/cuda/extras/CUPIT/lib64:/usr/local/cuda/lib64:/home/paco/miniconda3/envs/tf/lib/\n",
      "2023-06-25 20:35:34.406294: W tensorflow/compiler/tf2tensorrt/utils/py_utils.cc:38] TF-TRT Warning: Cannot dlopen some TensorRT libraries. If you would like to use Nvidia GPU with TensorRT, please make sure the missing libraries mentioned above are installed properly.\n",
      "/home/paco/miniconda3/envs/tf/lib/python3.10/site-packages/tensorflow_io/python/ops/__init__.py:98: UserWarning: unable to load libtensorflow_io_plugins.so: unable to open file: libtensorflow_io_plugins.so, from paths: ['/home/paco/miniconda3/envs/tf/lib/python3.10/site-packages/tensorflow_io/python/ops/libtensorflow_io_plugins.so']\n",
      "caused by: ['/home/paco/miniconda3/envs/tf/lib/python3.10/site-packages/tensorflow_io/python/ops/libtensorflow_io_plugins.so: undefined symbol: _ZN3tsl6StatusC1EN10tensorflow5error4CodeESt17basic_string_viewIcSt11char_traitsIcEENS_18SourceLocationImplE']\n",
      "  warnings.warn(f\"unable to load libtensorflow_io_plugins.so: {e}\")\n",
      "/home/paco/miniconda3/envs/tf/lib/python3.10/site-packages/tensorflow_io/python/ops/__init__.py:104: UserWarning: file system plugins are not loaded: unable to open file: libtensorflow_io.so, from paths: ['/home/paco/miniconda3/envs/tf/lib/python3.10/site-packages/tensorflow_io/python/ops/libtensorflow_io.so']\n",
      "caused by: ['/home/paco/miniconda3/envs/tf/lib/python3.10/site-packages/tensorflow_io/python/ops/libtensorflow_io.so: undefined symbol: _ZTVN3tsl13GcsFileSystemE']\n",
      "  warnings.warn(f\"file system plugins are not loaded: {e}\")\n"
     ]
    }
   ],
   "source": [
    "# Importing Tensorflow - Funcitonal API\n",
    "from tensorflow import keras\n",
    "from tensorflow.keras.models import Model\n",
    "from tensorflow.keras.layers import Layer, Conv2D, Dense, MaxPooling2D, Input, Flatten, BatchNormalization\n",
    "# Import Metric calculation\n",
    "from tensorflow.keras.metrics import Precision, Recall\n",
    "#\n",
    "import tensorflow as tf\n",
    "# Tensorflow Datasets\n",
    "# import tensorflow_datasets as tfds\n",
    "\n",
    "# np.set_printoptions(precision=8)\n",
    "# tf.keras.backend.set_floatx('float64')\n"
   ]
  },
  {
   "cell_type": "markdown",
   "id": "e8745831-4b13-438a-8a0b-4ded80eccb34",
   "metadata": {},
   "source": [
    "## 1.3 Limit GPU growth"
   ]
  },
  {
   "cell_type": "code",
   "execution_count": 3,
   "id": "84e32f62-68e3-4b96-9a6b-9db146ab284d",
   "metadata": {
    "tags": []
   },
   "outputs": [
    {
     "name": "stdout",
     "output_type": "stream",
     "text": [
      "Tensorflow Version: 2.11.1\n",
      "[PhysicalDevice(name='/physical_device:GPU:0', device_type='GPU')]\n",
      "[LogicalDevice(name='/device:GPU:0', device_type='GPU')]\n"
     ]
    },
    {
     "name": "stderr",
     "output_type": "stream",
     "text": [
      "2023-06-25 20:35:35.449715: I tensorflow/compiler/xla/stream_executor/cuda/cuda_gpu_executor.cc:981] successful NUMA node read from SysFS had negative value (-1), but there must be at least one NUMA node, so returning NUMA node zero\n",
      "2023-06-25 20:35:35.459392: I tensorflow/compiler/xla/stream_executor/cuda/cuda_gpu_executor.cc:981] successful NUMA node read from SysFS had negative value (-1), but there must be at least one NUMA node, so returning NUMA node zero\n",
      "2023-06-25 20:35:35.459535: I tensorflow/compiler/xla/stream_executor/cuda/cuda_gpu_executor.cc:981] successful NUMA node read from SysFS had negative value (-1), but there must be at least one NUMA node, so returning NUMA node zero\n",
      "2023-06-25 20:35:35.461428: I tensorflow/compiler/xla/stream_executor/cuda/cuda_gpu_executor.cc:981] successful NUMA node read from SysFS had negative value (-1), but there must be at least one NUMA node, so returning NUMA node zero\n",
      "2023-06-25 20:35:35.461565: I tensorflow/compiler/xla/stream_executor/cuda/cuda_gpu_executor.cc:981] successful NUMA node read from SysFS had negative value (-1), but there must be at least one NUMA node, so returning NUMA node zero\n",
      "2023-06-25 20:35:35.461648: I tensorflow/compiler/xla/stream_executor/cuda/cuda_gpu_executor.cc:981] successful NUMA node read from SysFS had negative value (-1), but there must be at least one NUMA node, so returning NUMA node zero\n",
      "2023-06-25 20:35:35.835084: I tensorflow/compiler/xla/stream_executor/cuda/cuda_gpu_executor.cc:981] successful NUMA node read from SysFS had negative value (-1), but there must be at least one NUMA node, so returning NUMA node zero\n",
      "2023-06-25 20:35:35.835210: I tensorflow/compiler/xla/stream_executor/cuda/cuda_gpu_executor.cc:981] successful NUMA node read from SysFS had negative value (-1), but there must be at least one NUMA node, so returning NUMA node zero\n",
      "2023-06-25 20:35:35.835287: I tensorflow/compiler/xla/stream_executor/cuda/cuda_gpu_executor.cc:981] successful NUMA node read from SysFS had negative value (-1), but there must be at least one NUMA node, so returning NUMA node zero\n",
      "2023-06-25 20:35:35.835358: I tensorflow/core/common_runtime/gpu/gpu_device.cc:1613] Created device /job:localhost/replica:0/task:0/device:GPU:0 with 3848 MB memory:  -> device: 0, name: NVIDIA GeForce RTX 3060 Laptop GPU, pci bus id: 0000:01:00.0, compute capability: 8.6\n"
     ]
    }
   ],
   "source": [
    "# Avoid Out of Memory (OOM) errors by setting GPU Memory Consuption Growth\n",
    "# Without this, by default tensorflow uses all memory available\n",
    "gpus = tf.config.experimental.list_physical_devices('GPU')\n",
    "for gpu in gpus:\n",
    "    tf.config.experimental.set_memory_growth(gpu, True)\n",
    "    \n",
    "# Print Tensorflow version and GPU available\n",
    "print(\"Tensorflow Version: {}\".format(tf.__version__))\n",
    "print(tf.config.list_physical_devices('GPU'))\n",
    "print(tf.config.list_logical_devices('GPU'))"
   ]
  },
  {
   "cell_type": "markdown",
   "id": "7cbb791c-d589-4ce0-8b9a-17aecc42ed11",
   "metadata": {},
   "source": [
    "# 2. Load and preprocess Dataset"
   ]
  },
  {
   "cell_type": "markdown",
   "id": "1a66d02f-9f72-4c92-909f-21e6d930ab06",
   "metadata": {
    "tags": []
   },
   "source": [
    "## 2.1 Get training image paths"
   ]
  },
  {
   "cell_type": "code",
   "execution_count": 4,
   "id": "bdf21246-5df1-4db2-b368-63354939d429",
   "metadata": {},
   "outputs": [],
   "source": [
    "# Create a Tensorflow Dataset through list_files\n",
    "dataset_dir = tf.data.Dataset.list_files('dataset/*.jpg', shuffle=True)"
   ]
  },
  {
   "cell_type": "code",
   "execution_count": 5,
   "id": "666d9ea7-38ff-4ac3-9727-1293130bf7d9",
   "metadata": {
    "tags": []
   },
   "outputs": [
    {
     "data": {
      "text/plain": [
       "b'dataset/img002965.jpg'"
      ]
     },
     "execution_count": 5,
     "metadata": {},
     "output_type": "execute_result"
    }
   ],
   "source": [
    "# Look one sample\n",
    "dir_test = dataset_dir.as_numpy_iterator()\n",
    "dir_test.next()"
   ]
  },
  {
   "cell_type": "markdown",
   "id": "ca83ae79-8677-4b91-9eb1-39fe3c3df22c",
   "metadata": {
    "tags": []
   },
   "source": [
    "## 2.2 Define a preprocessing function"
   ]
  },
  {
   "cell_type": "code",
   "execution_count": 6,
   "id": "4245c25c-7855-40e8-a9c7-37be9ed04bf7",
   "metadata": {},
   "outputs": [],
   "source": [
    "# Define a function to load the image and resize it and its label (ground truth)\n",
    "@tf.function\n",
    "def preprocess_path_rgb(file_path):\n",
    "    '''\n",
    "    Function that converts a file path to a normalized `(img, [xc, yc, r])` pair:\n",
    "    '''\n",
    "    # Get coordinates (xc, yc, radius) from annotation file\n",
    "    annotation_file = tf.strings.regex_replace(file_path, \".jpg\", \".txt\", replace_global=True, name=None)\n",
    "    # Read annotation file\n",
    "    y_true = tf.io.read_file(annotation_file)\n",
    "    # Take all until -2\n",
    "    y_true = tf.strings.substr(y_true, 0, 32)\n",
    "    # Decode as columns (already normalized)\n",
    "    y_true = tf.io.decode_csv(y_true, record_defaults=[np.float64(), np.float64(), np.float64()], field_delim=',')\n",
    "    #\n",
    "    # Load the raw data from the file as a string\n",
    "    img = tf.io.read_file(file_path)\n",
    "    # Convert the compressed string to a 3D uint8 tensor\n",
    "    img = tf.io.decode_jpeg(img, channels=3)\n",
    "    # Resize the image to the desired size of 100x100x3\n",
    "    img = tf.image.resize(img, [200, 200])\n",
    "    # Scaling image to be between 0 and 1\n",
    "    img = img / 255.0\n",
    "    \n",
    "    # Return the image\n",
    "    return img, y_true"
   ]
  },
  {
   "cell_type": "code",
   "execution_count": 17,
   "id": "971a4ebf-1066-48b7-84ea-59a1eb297a12",
   "metadata": {
    "tags": []
   },
   "outputs": [
    {
     "data": {
      "text/plain": [
       "Text(0, 0.5, 'yc = 69')"
      ]
     },
     "execution_count": 17,
     "metadata": {},
     "output_type": "execute_result"
    },
    {
     "data": {
      "image/png": "[encoded data removed]",
      "text/plain": [
       "<Figure size 640x480 with 1 Axes>"
      ]
     },
     "metadata": {},
     "output_type": "display_data"
    }
   ],
   "source": [
    "# Network Image Size\n",
    "net_img_size = 200\n",
    "# Plot an example\n",
    "sample = preprocess_path_rgb(dir_test.next())\n",
    "plt.imshow(sample[0])\n",
    "plt.plot(int(sample[1][0] * net_img_size), int(sample[1][1] * net_img_size), 'rx')\n",
    "plt.title(f'rc = {int(sample[1][2] * net_img_size)}')\n",
    "plt.xlabel(f'xc = {int(sample[1][0] * net_img_size)}')\n",
    "plt.ylabel(f'yc = {int(sample[1][1] * net_img_size)}')"
   ]
  },
  {
   "cell_type": "markdown",
   "id": "55b97b28-f09d-408e-9270-0767c85df62c",
   "metadata": {
    "tags": []
   },
   "source": [
    "## 2.3 Create labelled dataset"
   ]
  },
  {
   "cell_type": "code",
   "execution_count": 8,
   "id": "ab6c5b52-f855-40ae-a817-aba85a541206",
   "metadata": {},
   "outputs": [],
   "source": [
    "# Build pipeline\n",
    "dataset = dataset_dir.map(preprocess_path_rgb)\n",
    "dataset = dataset.cache()\n",
    "dataset = dataset.shuffle(buffer_size=1024)"
   ]
  },
  {
   "cell_type": "markdown",
   "id": "5df33a3b-7463-4a59-8fdc-b6cf99946eb2",
   "metadata": {
    "tags": []
   },
   "source": [
    "## 2.4 Build train and test partition"
   ]
  },
  {
   "cell_type": "code",
   "execution_count": 9,
   "id": "1afde58d-8a17-40c1-96e4-d880f128c4dd",
   "metadata": {
    "tags": []
   },
   "outputs": [],
   "source": [
    "# Training partition 70%\n",
    "split_100 = 0.7\n",
    "train_partition = dataset.take(round(len(dataset_dir) * split_100))\n",
    "# train_data = dataset.take(round(len(dataset_dir) * split_100))\n",
    "# train_data = train_data.batch(16)\n",
    "# train_data = train_data.prefetch(buffer_size=tf.data.AUTOTUNE) # 8)                      "
   ]
  },
  {
   "cell_type": "code",
   "execution_count": 10,
   "id": "1d1d4c16-6456-4b62-ab04-4a8baacb248d",
   "metadata": {
    "tags": []
   },
   "outputs": [],
   "source": [
    "# Testing partition 30%\n",
    "test_data = dataset.skip(round(len(dataset_dir) * split_100))\n",
    "test_data = test_data.take(round(len(dataset_dir) * (1-split_100)))\n",
    "test_data = test_data.batch(16)\n",
    "test_data = test_data.prefetch(buffer_size=tf.data.AUTOTUNE) # 8)                      "
   ]
  },
  {
   "cell_type": "code",
   "execution_count": 11,
   "id": "b7149620-5597-41e0-b943-6cde1965f4dd",
   "metadata": {
    "tags": []
   },
   "outputs": [],
   "source": [
    "# This partition will be 80% for training and 20% for validation\n",
    "split_train_100 = 0.8\n",
    "train_data = train_partition.take(round(len(train_partition) * split_train_100))\n",
    "train_data = train_data.batch(16)\n",
    "train_data = train_data.prefetch(buffer_size=tf.data.AUTOTUNE) # 8)\n",
    "# Validation data\n",
    "validation_data = train_partition.skip(round(len(train_partition) * split_train_100))\n",
    "validation_data = validation_data.take(round(len(train_partition) * (1-split_train_100)))\n",
    "validation_data = validation_data.batch(16)\n",
    "validation_data = validation_data.prefetch(buffer_size=tf.data.AUTOTUNE) # 8)                      "
   ]
  },
  {
   "cell_type": "markdown",
   "id": "3c206250-b6db-4648-a155-afc3c1701d75",
   "metadata": {},
   "source": [
    "# 3. Model Creation"
   ]
  },
  {
   "cell_type": "markdown",
   "id": "e45bc042-3662-4d4f-b406-1d913a20f0c3",
   "metadata": {},
   "source": [
    "## 3.1 Structure"
   ]
  },
  {
   "cell_type": "code",
   "execution_count": 12,
   "id": "ad91a467-9a5f-4a24-818c-4582b0bb46c1",
   "metadata": {
    "tags": []
   },
   "outputs": [],
   "source": [
    "def uncompiled_model():\n",
    "    # Input\n",
    "    inp = keras.Input(shape=(200, 200, 3), name=\"input_image\")  # 200x200x3 RGB images\n",
    "    #\n",
    "    # ===========================================\n",
    "    # Backbone - Feature Extractions - Classifier\n",
    "    # ===========================================\n",
    "    # First Block\n",
    "    c1  = Conv2D(64, (10, 10), activation='relu')(inp)\n",
    "    bn1 = BatchNormalization(axis=-1, momentum=0.99, epsilon=0.001)(c1)\n",
    "    m1  = MaxPooling2D(64, (2, 2), padding='same')(c1)\n",
    "    # Second Block\n",
    "    c2  = Conv2D(128, (7, 7), activation='relu')(m1)\n",
    "    bn2 = BatchNormalization(axis=-1, momentum=0.99, epsilon=0.001)(c2)\n",
    "    m2  = MaxPooling2D(64, (2, 2), padding='same')(c2)\n",
    "    # Third Block\n",
    "    c3  = Conv2D(128, (4, 4), activation='relu')(m2)\n",
    "    bn3 = BatchNormalization(axis=-1, momentum=0.99, epsilon=0.001)(c3)\n",
    "    m3  = MaxPooling2D(64, (2, 2), padding='same')(c3)\n",
    "    # Final embedding block\n",
    "    c4 = Conv2D(256, (4, 4), activation='relu')(m3)\n",
    "    backbone = Flatten()(c4)\n",
    "    #\n",
    "    # # Time to apply global max pooling.\n",
    "    # backbone = layers.GlobalMaxPooling2D()(backbone)\n",
    "    #\n",
    "    # # Flatten\n",
    "    # backbone = layers.Flatten()(d1)\n",
    "    #\n",
    "    # ===================================\n",
    "    # Head - Circle parameters Regression\n",
    "    # ===================================\n",
    "    d1 = Dense(1024, activation='linear', name=\"head_fc1\")(backbone)\n",
    "    d2 = Dense(1024, activation=\"relu\", name=\"head_fc2\")(d1)\n",
    "    # d3 = layers.Dense(512, activation=\"relu\", name=\"head_fc2\")(d2)\n",
    "    # head = layers.Dropout(0.4, name=\"head_dropout1\")(head)\n",
    "    # head = layers.Dense(128, activation=\"relu\", name=\"head_fc3\")(head)\n",
    "    out  = Dense(3, activation=\"linear\", name=\"head_predictions\")(d2)  # , kernel_regularizer='l1_l2', name=\"head_predictions\")(head)\n",
    "    #\n",
    "    # Generate and return the model\n",
    "    model = keras.Model(inputs=[inp], outputs=[out], name=\"circle_estimator\")\n",
    "    return model"
   ]
  },
  {
   "cell_type": "code",
   "execution_count": 13,
   "id": "cabe090e-f807-41e8-8a5d-026db06730be",
   "metadata": {},
   "outputs": [
    {
     "name": "stdout",
     "output_type": "stream",
     "text": [
      "Model: \"circle_estimator\"\n",
      "_________________________________________________________________\n",
      " Layer (type)                Output Shape              Param #   \n",
      "=================================================================\n",
      " input_image (InputLayer)    [(None, 200, 200, 3)]     0         \n",
      "                                                                 \n",
      " conv2d (Conv2D)             (None, 191, 191, 64)      19264     \n",
      "                                                                 \n",
      " max_pooling2d (MaxPooling2D  (None, 96, 96, 64)       0         \n",
      " )                                                               \n",
      "                                                                 \n",
      " conv2d_1 (Conv2D)           (None, 90, 90, 128)       401536    \n",
      "                                                                 \n",
      " max_pooling2d_1 (MaxPooling  (None, 45, 45, 128)      0         \n",
      " 2D)                                                             \n",
      "                                                                 \n",
      " conv2d_2 (Conv2D)           (None, 42, 42, 128)       262272    \n",
      "                                                                 \n",
      " max_pooling2d_2 (MaxPooling  (None, 21, 21, 128)      0         \n",
      " 2D)                                                             \n",
      "                                                                 \n",
      " conv2d_3 (Conv2D)           (None, 18, 18, 256)       524544    \n",
      "                                                                 \n",
      " flatten (Flatten)           (None, 82944)             0         \n",
      "                                                                 \n",
      " head_fc1 (Dense)            (None, 1024)              84935680  \n",
      "                                                                 \n",
      " head_fc2 (Dense)            (None, 1024)              1049600   \n",
      "                                                                 \n",
      " head_predictions (Dense)    (None, 3)                 3075      \n",
      "                                                                 \n",
      "=================================================================\n",
      "Total params: 87,195,971\n",
      "Trainable params: 87,195,971\n",
      "Non-trainable params: 0\n",
      "_________________________________________________________________\n"
     ]
    }
   ],
   "source": [
    "model = uncompiled_model()\n",
    "model.summary()"
   ]
  },
  {
   "cell_type": "markdown",
   "id": "ddd05a0e-8668-445f-a262-423e2576b2c2",
   "metadata": {
    "tags": []
   },
   "source": [
    "# 4. Training"
   ]
  },
  {
   "cell_type": "markdown",
   "id": "bd689951-36c9-49ef-9d56-ff3969ea12b6",
   "metadata": {},
   "source": [
    "## 4.1 Compile Model - Setup Loss and Optimizer"
   ]
  },
  {
   "cell_type": "code",
   "execution_count": 27,
   "id": "6cc5729e-b3ea-43f4-af65-cc5de2b52662",
   "metadata": {
    "tags": []
   },
   "outputs": [],
   "source": [
    "# Define optimizer\n",
    "model_opt = tf.keras.optimizers.Adam(learning_rate=0.0001)\n",
    "# Define Loss\n",
    "model_loss = tf.keras.losses.MeanSquaredError() # reduction='sum_over_batch_size')"
   ]
  },
  {
   "cell_type": "code",
   "execution_count": 28,
   "id": "d23ecb40-8642-42df-a166-8cab0a1d54b5",
   "metadata": {
    "tags": []
   },
   "outputs": [],
   "source": [
    "# Compile\n",
    "model.compile(\n",
    "    optimizer=model_opt,\n",
    "    # Loss function to minimize\n",
    "    loss=model_loss,\n",
    "    # List of metrics to monitor\n",
    "    # metrics=[keras.metrics.Accuracy()],\n",
    "    metrics=['accuracy']\n",
    ")"
   ]
  },
  {
   "cell_type": "markdown",
   "id": "2491fd3d-d23f-41e9-bc43-ba221b20af85",
   "metadata": {
    "tags": []
   },
   "source": [
    "## 4.2 Establish Checkpoints"
   ]
  },
  {
   "cell_type": "code",
   "execution_count": 36,
   "id": "cd25016d-8525-4998-a0a5-b8a4316cdeba",
   "metadata": {
    "tags": []
   },
   "outputs": [],
   "source": [
    "checkpoint_dir = './training_checkpoints/'\n",
    "# checkpoint_prefix = os.path.join(checkpoint_dir, 'ckpt')\n",
    "# checkpoint = tf.train.Checkpoint(optimizer=model_opt, model=model)\n",
    "\n",
    "# Create a callback that saves the model's weights\n",
    "cp_callback = tf.keras.callbacks.ModelCheckpoint(\n",
    "    filepath=checkpoint_dir,\n",
    "    monitor='val_accuracy',\n",
    "    save_weights_only=True,\n",
    "    save_best_only=False,\n",
    "    save_freq=len(train_data), #save_frequency_in_batch, #'epoch',\n",
    "    verbose=1\n",
    ")"
   ]
  },
  {
   "cell_type": "markdown",
   "id": "fe8bed30-65ee-472d-aa4e-12e13200cb00",
   "metadata": {},
   "source": [
    "## 4.3 Train the model"
   ]
  },
  {
   "cell_type": "code",
   "execution_count": 43,
   "id": "ebcb12ec-fff6-4847-a903-db5cfad7634d",
   "metadata": {
    "tags": []
   },
   "outputs": [
    {
     "name": "stdout",
     "output_type": "stream",
     "text": [
      "Epoch 1/5\n"
     ]
    },
    {
     "name": "stderr",
     "output_type": "stream",
     "text": [
      "2023-06-25 22:20:40.880390: W tensorflow/core/kernels/data/cache_dataset_ops.cc:856] The calling iterator did not fully read the dataset being cached. In order to avoid unexpected truncation of the dataset, the partially cached contents of the dataset  will be discarded. This can happen if you have an input pipeline similar to `dataset.cache().take(k).repeat()`. You should use `dataset.take(k).cache().repeat()` instead.\n"
     ]
    },
    {
     "name": "stdout",
     "output_type": "stream",
     "text": [
      "\n",
      "Epoch 1: saving model to ./training_checkpoints/\n"
     ]
    },
    {
     "name": "stderr",
     "output_type": "stream",
     "text": [
      "2023-06-25 22:20:47.982006: W tensorflow/core/kernels/data/cache_dataset_ops.cc:856] The calling iterator did not fully read the dataset being cached. In order to avoid unexpected truncation of the dataset, the partially cached contents of the dataset  will be discarded. This can happen if you have an input pipeline similar to `dataset.cache().take(k).repeat()`. You should use `dataset.take(k).cache().repeat()` instead.\n"
     ]
    },
    {
     "name": "stdout",
     "output_type": "stream",
     "text": [
      "175/175 - 64s - loss: 2.2378e-04 - accuracy: 0.9661 - val_loss: 2.0973e-04 - val_accuracy: 0.9800 - 64s/epoch - 365ms/step\n",
      "Epoch 2/5\n"
     ]
    },
    {
     "name": "stderr",
     "output_type": "stream",
     "text": [
      "2023-06-25 22:21:43.726204: W tensorflow/core/kernels/data/cache_dataset_ops.cc:856] The calling iterator did not fully read the dataset being cached. In order to avoid unexpected truncation of the dataset, the partially cached contents of the dataset  will be discarded. This can happen if you have an input pipeline similar to `dataset.cache().take(k).repeat()`. You should use `dataset.take(k).cache().repeat()` instead.\n"
     ]
    },
    {
     "name": "stdout",
     "output_type": "stream",
     "text": [
      "\n",
      "Epoch 2: saving model to ./training_checkpoints/\n"
     ]
    },
    {
     "name": "stderr",
     "output_type": "stream",
     "text": [
      "2023-06-25 22:21:50.924663: W tensorflow/core/kernels/data/cache_dataset_ops.cc:856] The calling iterator did not fully read the dataset being cached. In order to avoid unexpected truncation of the dataset, the partially cached contents of the dataset  will be discarded. This can happen if you have an input pipeline similar to `dataset.cache().take(k).repeat()`. You should use `dataset.take(k).cache().repeat()` instead.\n"
     ]
    },
    {
     "name": "stdout",
     "output_type": "stream",
     "text": [
      "175/175 - 63s - loss: 2.5554e-04 - accuracy: 0.9729 - val_loss: 5.3791e-04 - val_accuracy: 0.9286 - 63s/epoch - 360ms/step\n",
      "Epoch 3/5\n"
     ]
    },
    {
     "name": "stderr",
     "output_type": "stream",
     "text": [
      "2023-06-25 22:22:47.063356: W tensorflow/core/kernels/data/cache_dataset_ops.cc:856] The calling iterator did not fully read the dataset being cached. In order to avoid unexpected truncation of the dataset, the partially cached contents of the dataset  will be discarded. This can happen if you have an input pipeline similar to `dataset.cache().take(k).repeat()`. You should use `dataset.take(k).cache().repeat()` instead.\n"
     ]
    },
    {
     "name": "stdout",
     "output_type": "stream",
     "text": [
      "\n",
      "Epoch 3: saving model to ./training_checkpoints/\n"
     ]
    },
    {
     "name": "stderr",
     "output_type": "stream",
     "text": [
      "2023-06-25 22:22:54.694785: W tensorflow/core/kernels/data/cache_dataset_ops.cc:856] The calling iterator did not fully read the dataset being cached. In order to avoid unexpected truncation of the dataset, the partially cached contents of the dataset  will be discarded. This can happen if you have an input pipeline similar to `dataset.cache().take(k).repeat()`. You should use `dataset.take(k).cache().repeat()` instead.\n"
     ]
    },
    {
     "name": "stdout",
     "output_type": "stream",
     "text": [
      "175/175 - 64s - loss: 2.6466e-04 - accuracy: 0.9718 - val_loss: 1.5410e-04 - val_accuracy: 0.9843 - 64s/epoch - 364ms/step\n",
      "Epoch 4/5\n"
     ]
    },
    {
     "name": "stderr",
     "output_type": "stream",
     "text": [
      "2023-06-25 22:23:51.565871: W tensorflow/core/kernels/data/cache_dataset_ops.cc:856] The calling iterator did not fully read the dataset being cached. In order to avoid unexpected truncation of the dataset, the partially cached contents of the dataset  will be discarded. This can happen if you have an input pipeline similar to `dataset.cache().take(k).repeat()`. You should use `dataset.take(k).cache().repeat()` instead.\n"
     ]
    },
    {
     "name": "stdout",
     "output_type": "stream",
     "text": [
      "\n",
      "Epoch 4: saving model to ./training_checkpoints/\n"
     ]
    },
    {
     "name": "stderr",
     "output_type": "stream",
     "text": [
      "2023-06-25 22:23:59.096828: W tensorflow/core/kernels/data/cache_dataset_ops.cc:856] The calling iterator did not fully read the dataset being cached. In order to avoid unexpected truncation of the dataset, the partially cached contents of the dataset  will be discarded. This can happen if you have an input pipeline similar to `dataset.cache().take(k).repeat()`. You should use `dataset.take(k).cache().repeat()` instead.\n"
     ]
    },
    {
     "name": "stdout",
     "output_type": "stream",
     "text": [
      "175/175 - 64s - loss: 1.6341e-04 - accuracy: 0.9739 - val_loss: 1.4334e-04 - val_accuracy: 0.9771 - 64s/epoch - 368ms/step\n",
      "Epoch 5/5\n"
     ]
    },
    {
     "name": "stderr",
     "output_type": "stream",
     "text": [
      "2023-06-25 22:24:56.922080: W tensorflow/core/kernels/data/cache_dataset_ops.cc:856] The calling iterator did not fully read the dataset being cached. In order to avoid unexpected truncation of the dataset, the partially cached contents of the dataset  will be discarded. This can happen if you have an input pipeline similar to `dataset.cache().take(k).repeat()`. You should use `dataset.take(k).cache().repeat()` instead.\n"
     ]
    },
    {
     "name": "stdout",
     "output_type": "stream",
     "text": [
      "\n",
      "Epoch 5: saving model to ./training_checkpoints/\n"
     ]
    },
    {
     "name": "stderr",
     "output_type": "stream",
     "text": [
      "2023-06-25 22:25:04.348447: W tensorflow/core/kernels/data/cache_dataset_ops.cc:856] The calling iterator did not fully read the dataset being cached. In order to avoid unexpected truncation of the dataset, the partially cached contents of the dataset  will be discarded. This can happen if you have an input pipeline similar to `dataset.cache().take(k).repeat()`. You should use `dataset.take(k).cache().repeat()` instead.\n"
     ]
    },
    {
     "name": "stdout",
     "output_type": "stream",
     "text": [
      "175/175 - 65s - loss: 1.8995e-04 - accuracy: 0.9739 - val_loss: 1.6720e-04 - val_accuracy: 0.9714 - 65s/epoch - 373ms/step\n"
     ]
    }
   ],
   "source": [
    "history = model.fit(\n",
    "    train_data,\n",
    "    validation_data=validation_data,\n",
    "    batch_size=16,\n",
    "    verbose=2,\n",
    "    shuffle=True,\n",
    "    epochs=5,\n",
    "    callbacks=[cp_callback]  # Pass callback to training\n",
    ")"
   ]
  },
  {
   "cell_type": "code",
   "execution_count": 44,
   "id": "d7002bc1-9594-4de0-b019-7877c50f2881",
   "metadata": {
    "tags": []
   },
   "outputs": [
    {
     "name": "stderr",
     "output_type": "stream",
     "text": [
      "2023-06-25 22:39:00.381423: W tensorflow/core/kernels/data/cache_dataset_ops.cc:856] The calling iterator did not fully read the dataset being cached. In order to avoid unexpected truncation of the dataset, the partially cached contents of the dataset  will be discarded. This can happen if you have an input pipeline similar to `dataset.cache().take(k).repeat()`. You should use `dataset.take(k).cache().repeat()` instead.\n"
     ]
    }
   ],
   "source": [
    "# Get a batch of test data\n",
    "test_input, y_true = test_data.as_numpy_iterator().next()"
   ]
  },
  {
   "cell_type": "code",
   "execution_count": 52,
   "id": "a9ae0ef5-aeff-4113-a1b8-867e3b22c01d",
   "metadata": {
    "tags": []
   },
   "outputs": [
    {
     "name": "stdout",
     "output_type": "stream",
     "text": [
      "1/1 [==============================] - 0s 24ms/step\n"
     ]
    },
    {
     "data": {
      "text/plain": [
       "array([[0.34821495, 0.5141094 , 0.12526548],\n",
       "       [0.4207026 , 0.33460122, 0.2714746 ],\n",
       "       [0.40634146, 0.48803696, 0.38344646],\n",
       "       [0.9119948 , 0.5566798 , 0.1213524 ],\n",
       "       [0.4993308 , 0.2905802 , 0.18135412],\n",
       "       [0.4934816 , 0.7285701 , 0.13754229],\n",
       "       [0.6877374 , 0.6487005 , 0.2120558 ],\n",
       "       [0.43780285, 0.76007414, 0.17222689],\n",
       "       [0.8110775 , 0.8250936 , 0.10814936],\n",
       "       [0.67939   , 0.34958726, 0.27383476],\n",
       "       [0.21073818, 0.43696028, 0.14881341],\n",
       "       [0.5065144 , 0.597391  , 0.3118423 ],\n",
       "       [0.8595944 , 0.37653098, 0.14532244],\n",
       "       [0.39021412, 0.4623221 , 0.2060057 ],\n",
       "       [0.45141077, 0.6518455 , 0.32239518],\n",
       "       [0.7002331 , 0.6225717 , 0.2377659 ]], dtype=float32)"
      ]
     },
     "execution_count": 52,
     "metadata": {},
     "output_type": "execute_result"
    }
   ],
   "source": [
    "# Make predictions\n",
    "y_hat = model.predict([test_input])\n",
    "y_hat"
   ]
  },
  {
   "cell_type": "code",
   "execution_count": 53,
   "id": "2d2120d2-d093-4c26-9725-e2ecb0a6fb94",
   "metadata": {
    "tags": []
   },
   "outputs": [
    {
     "data": {
      "text/plain": [
       "array([[0.335, 0.51 , 0.13 ],\n",
       "       [0.42 , 0.32 , 0.265],\n",
       "       [0.41 , 0.46 , 0.385],\n",
       "       [0.875, 0.57 , 0.11 ],\n",
       "       [0.495, 0.28 , 0.185],\n",
       "       [0.53 , 0.725, 0.15 ],\n",
       "       [0.685, 0.65 , 0.215],\n",
       "       [0.44 , 0.755, 0.18 ],\n",
       "       [0.835, 0.855, 0.11 ],\n",
       "       [0.68 , 0.33 , 0.275],\n",
       "       [0.205, 0.45 , 0.15 ],\n",
       "       [0.525, 0.58 , 0.32 ],\n",
       "       [0.84 , 0.375, 0.135],\n",
       "       [0.39 , 0.445, 0.21 ],\n",
       "       [0.47 , 0.64 , 0.33 ],\n",
       "       [0.7  , 0.615, 0.25 ]])"
      ]
     },
     "execution_count": 53,
     "metadata": {},
     "output_type": "execute_result"
    }
   ],
   "source": [
    "y_true"
   ]
  },
  {
   "cell_type": "code",
   "execution_count": 54,
   "id": "a151c879-2cdf-4ffb-badc-bf36b779dadb",
   "metadata": {
    "tags": []
   },
   "outputs": [
    {
     "data": {
      "text/plain": [
       "0.33333334"
      ]
     },
     "execution_count": 54,
     "metadata": {},
     "output_type": "execute_result"
    }
   ],
   "source": [
    "# Creating a metric object\n",
    "m = Recall()\n",
    "\n",
    "# Calculate the recall values\n",
    "m.update_state(y_true, y_hat)\n",
    "\n",
    "# View the results\n",
    "m.result().numpy()"
   ]
  },
  {
   "cell_type": "code",
   "execution_count": 55,
   "id": "2e62029a-9340-4034-bd2e-388cfee55662",
   "metadata": {
    "tags": []
   },
   "outputs": [
    {
     "data": {
      "text/plain": [
       "1.0"
      ]
     },
     "execution_count": 55,
     "metadata": {},
     "output_type": "execute_result"
    }
   ],
   "source": [
    "# Creating a metric object\n",
    "m = Precision()\n",
    "\n",
    "# Calculate the recall values\n",
    "m.update_state(y_true, y_hat)\n",
    "\n",
    "# View the results\n",
    "m.result().numpy()"
   ]
  },
  {
   "cell_type": "markdown",
   "id": "5479d659-5d86-4cdf-b1fb-b8df1090cc5a",
   "metadata": {
    "tags": []
   },
   "source": [
    "# 7. Save model"
   ]
  },
  {
   "cell_type": "code",
   "execution_count": 50,
   "id": "1e00d281-4fee-4520-af38-e0ead07c82ef",
   "metadata": {
    "tags": []
   },
   "outputs": [],
   "source": [
    "# Save weights\n",
    "model.save('circle_estimator_model_200x200x3.h5')"
   ]
  },
  {
   "cell_type": "code",
   "execution_count": 51,
   "id": "d95e072c-c47e-495e-ace8-38644a4363a4",
   "metadata": {
    "tags": []
   },
   "outputs": [],
   "source": [
    "# Reload model for testing\n",
    "model1 = tf.keras.models.load_model('circle_estimator_model_200x200x3.h5')"
   ]
  },
  {
   "cell_type": "code",
   "execution_count": null,
   "id": "17c327df-8316-4359-9986-21e0bf977e76",
   "metadata": {},
   "outputs": [],
   "source": []
  }
 ],
 "metadata": {
  "kernelspec": {
   "display_name": "Python 3 (ipykernel)",
   "language": "python",
   "name": "python3"
  },
  "language_info": {
   "codemirror_mode": {
    "name": "ipython",
    "version": 3
   },
   "file_extension": ".py",
   "mimetype": "text/x-python",
   "name": "python",
   "nbconvert_exporter": "python",
   "pygments_lexer": "ipython3",
   "version": "3.10.9"
  }
 },
 "nbformat": 4,
 "nbformat_minor": 5
}
